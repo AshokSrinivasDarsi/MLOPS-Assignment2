{
 "cells": [
  {
   "cell_type": "markdown",
   "id": "a028bc8f",
   "metadata": {},
   "source": [
    "# Q1"
   ]
  },
  {
   "cell_type": "code",
   "execution_count": 45,
   "id": "df75b8c2",
   "metadata": {},
   "outputs": [],
   "source": [
    "import matplotlib.pyplot as plt\n",
    "import pandas as pd\n",
    "import numpy as np\n",
    "import itertools\n",
    "from sklearn import datasets, svm, metrics\n",
    "from sklearn.model_selection import train_test_split\n",
    "from sklearn.metrics import accuracy_score\n",
    "from skimage.transform import *"
   ]
  },
  {
   "cell_type": "code",
   "execution_count": 46,
   "id": "28562426",
   "metadata": {},
   "outputs": [],
   "source": [
    "digits = datasets.load_digits()"
   ]
  },
  {
   "cell_type": "code",
   "execution_count": 47,
   "id": "dbef782b",
   "metadata": {},
   "outputs": [
    {
     "data": {
      "image/png": "[encoded data removed]",
      "text/plain": [
       "<Figure size 720x216 with 4 Axes>"
      ]
     },
     "metadata": {
      "needs_background": "light"
     },
     "output_type": "display_data"
    }
   ],
   "source": [
    "_, axes = plt.subplots(nrows=1, ncols=4, figsize=(10, 3))\n",
    "for ax, image, label in zip(axes, digits.images, digits.target):\n",
    "    ax.set_axis_off()\n",
    "    ax.imshow(image, cmap=plt.cm.gray_r, interpolation=\"nearest\")\n",
    "    ax.set_title(\"Training: %i\" % label)"
   ]
  },
  {
   "cell_type": "code",
   "execution_count": 48,
   "id": "ff448e9b",
   "metadata": {},
   "outputs": [
    {
     "data": {
      "text/plain": [
       "(1797, 64)"
      ]
     },
     "execution_count": 48,
     "metadata": {},
     "output_type": "execute_result"
    }
   ],
   "source": [
    "n_samples = len(digits.images)\n",
    "img = digits.images.reshape((n_samples, -1))\n",
    "img.shape"
   ]
  },
  {
   "cell_type": "code",
   "execution_count": 52,
   "id": "abb013e1",
   "metadata": {},
   "outputs": [],
   "source": [
    "def model(data):\n",
    "    xtrain, x_test, ytrain, y_test = train_test_split(\n",
    "        data, digits.target, test_size=0.15, stratify=digits.target\n",
    "    )\n",
    "\n",
    "    x_train, x_dev, y_train, y_dev = train_test_split(\n",
    "        xtrain, ytrain, test_size=0.2, stratify=ytrain\n",
    "    )\n",
    "\n",
    "    gamma = [1e-3, 1e-5, 1e-6]\n",
    "    C = [4,12]\n",
    "    list = [gamma,C]\n",
    "    combinations = [p for p in itertools.product(*list)]\n",
    "    params,train_acc,dev_acc,test_acc=[],[],[],[]\n",
    "    for gamma,c in combinations:\n",
    "        params.append((gamma,c))\n",
    "        svmc = svm.SVC( kernel='rbf',gamma=gamma,C=c)\n",
    "        svmc.fit(x_train, y_train)\n",
    "        train_acc.append(accuracy_score(y_train,svmc.predict(x_train)))\n",
    "        dev_acc.append(accuracy_score(y_dev,svmc.predict(x_dev)))\n",
    "        test_acc.append(accuracy_score(y_test,svmc.predict(x_test)))\n",
    "\n",
    "    results = pd.DataFrame({'hyper_params':params,'train_accuracy':train_acc,'dev_accuracy':dev_acc,'test_accuracy':test_acc})\n",
    "\n",
    "    return results, (results[results['dev_accuracy']==max(results['dev_accuracy'])])\n",
    " "
   ]
  },
  {
   "cell_type": "code",
   "execution_count": 53,
   "id": "758824b8",
   "metadata": {},
   "outputs": [],
   "source": [
    "result, best = model(img)"
   ]
  },
  {
   "cell_type": "code",
   "execution_count": 54,
   "id": "5bf885c6",
   "metadata": {},
   "outputs": [
    {
     "data": {
      "text/html": [
       "<div>\n",
       "<style scoped>\n",
       "    .dataframe tbody tr th:only-of-type {\n",
       "        vertical-align: middle;\n",
       "    }\n",
       "\n",
       "    .dataframe tbody tr th {\n",
       "        vertical-align: top;\n",
       "    }\n",
       "\n",
       "    .dataframe thead th {\n",
       "        text-align: right;\n",
       "    }\n",
       "</style>\n",
       "<table border=\"1\" class=\"dataframe\">\n",
       "  <thead>\n",
       "    <tr style=\"text-align: right;\">\n",
       "      <th></th>\n",
       "      <th>hyper_params</th>\n",
       "      <th>train_accuracy</th>\n",
       "      <th>dev_accuracy</th>\n",
       "      <th>test_accuracy</th>\n",
       "    </tr>\n",
       "  </thead>\n",
       "  <tbody>\n",
       "    <tr>\n",
       "      <th>0</th>\n",
       "      <td>(0.001, 4)</td>\n",
       "      <td>1.000000</td>\n",
       "      <td>0.993464</td>\n",
       "      <td>0.992593</td>\n",
       "    </tr>\n",
       "    <tr>\n",
       "      <th>1</th>\n",
       "      <td>(0.001, 12)</td>\n",
       "      <td>1.000000</td>\n",
       "      <td>0.993464</td>\n",
       "      <td>0.992593</td>\n",
       "    </tr>\n",
       "    <tr>\n",
       "      <th>2</th>\n",
       "      <td>(1e-05, 4)</td>\n",
       "      <td>0.954955</td>\n",
       "      <td>0.973856</td>\n",
       "      <td>0.966667</td>\n",
       "    </tr>\n",
       "    <tr>\n",
       "      <th>3</th>\n",
       "      <td>(1e-05, 12)</td>\n",
       "      <td>0.973792</td>\n",
       "      <td>0.983660</td>\n",
       "      <td>0.981481</td>\n",
       "    </tr>\n",
       "    <tr>\n",
       "      <th>4</th>\n",
       "      <td>(1e-06, 4)</td>\n",
       "      <td>0.665848</td>\n",
       "      <td>0.660131</td>\n",
       "      <td>0.633333</td>\n",
       "    </tr>\n",
       "    <tr>\n",
       "      <th>5</th>\n",
       "      <td>(1e-06, 12)</td>\n",
       "      <td>0.912367</td>\n",
       "      <td>0.934641</td>\n",
       "      <td>0.911111</td>\n",
       "    </tr>\n",
       "  </tbody>\n",
       "</table>\n",
       "</div>"
      ],
      "text/plain": [
       "  hyper_params  train_accuracy  dev_accuracy  test_accuracy\n",
       "0   (0.001, 4)        1.000000      0.993464       0.992593\n",
       "1  (0.001, 12)        1.000000      0.993464       0.992593\n",
       "2   (1e-05, 4)        0.954955      0.973856       0.966667\n",
       "3  (1e-05, 12)        0.973792      0.983660       0.981481\n",
       "4   (1e-06, 4)        0.665848      0.660131       0.633333\n",
       "5  (1e-06, 12)        0.912367      0.934641       0.911111"
      ]
     },
     "execution_count": 54,
     "metadata": {},
     "output_type": "execute_result"
    }
   ],
   "source": [
    "result"
   ]
  },
  {
   "cell_type": "code",
   "execution_count": 55,
   "id": "054007b8",
   "metadata": {},
   "outputs": [
    {
     "data": {
      "text/html": [
       "<div>\n",
       "<style scoped>\n",
       "    .dataframe tbody tr th:only-of-type {\n",
       "        vertical-align: middle;\n",
       "    }\n",
       "\n",
       "    .dataframe tbody tr th {\n",
       "        vertical-align: top;\n",
       "    }\n",
       "\n",
       "    .dataframe thead th {\n",
       "        text-align: right;\n",
       "    }\n",
       "</style>\n",
       "<table border=\"1\" class=\"dataframe\">\n",
       "  <thead>\n",
       "    <tr style=\"text-align: right;\">\n",
       "      <th></th>\n",
       "      <th>hyper_params</th>\n",
       "      <th>train_accuracy</th>\n",
       "      <th>dev_accuracy</th>\n",
       "      <th>test_accuracy</th>\n",
       "    </tr>\n",
       "  </thead>\n",
       "  <tbody>\n",
       "    <tr>\n",
       "      <th>0</th>\n",
       "      <td>(0.001, 4)</td>\n",
       "      <td>1.0</td>\n",
       "      <td>0.993464</td>\n",
       "      <td>0.992593</td>\n",
       "    </tr>\n",
       "    <tr>\n",
       "      <th>1</th>\n",
       "      <td>(0.001, 12)</td>\n",
       "      <td>1.0</td>\n",
       "      <td>0.993464</td>\n",
       "      <td>0.992593</td>\n",
       "    </tr>\n",
       "  </tbody>\n",
       "</table>\n",
       "</div>"
      ],
      "text/plain": [
       "  hyper_params  train_accuracy  dev_accuracy  test_accuracy\n",
       "0   (0.001, 4)             1.0      0.993464       0.992593\n",
       "1  (0.001, 12)             1.0      0.993464       0.992593"
      ]
     },
     "execution_count": 55,
     "metadata": {},
     "output_type": "execute_result"
    }
   ],
   "source": [
    "best"
   ]
  },
  {
   "cell_type": "markdown",
   "id": "65413072",
   "metadata": {},
   "source": [
    "# Q2"
   ]
  },
  {
   "cell_type": "code",
   "execution_count": 56,
   "id": "b614d307",
   "metadata": {},
   "outputs": [
    {
     "data": {
      "text/plain": [
       "(1797, 8, 8)"
      ]
     },
     "execution_count": 56,
     "metadata": {},
     "output_type": "execute_result"
    }
   ],
   "source": [
    "digits.images.shape"
   ]
  },
  {
   "cell_type": "code",
   "execution_count": 57,
   "id": "c3096159",
   "metadata": {},
   "outputs": [],
   "source": [
    "R1 = np.array([resize(digits.images[i].reshape(8,8),(5,5)) for i in range(len(digits.images))])\n",
    "R2 = np.array([resize(digits.images[i].reshape(8,8),(20,20)) for i in range(len(digits.images))])\n",
    "R3 = np.array([resize(digits.images[i].reshape(8,8),(32,32)) for i in range(len(digits.images))])"
   ]
  },
  {
   "cell_type": "code",
   "execution_count": 58,
   "id": "0f0e7938",
   "metadata": {},
   "outputs": [
    {
     "name": "stdout",
     "output_type": "stream",
     "text": [
      "(1797, 5, 5)\n",
      "(1797, 20, 20)\n",
      "(1797, 32, 32)\n"
     ]
    }
   ],
   "source": [
    "print(R1.shape)\n",
    "print(R2.shape)\n",
    "print(R3.shape)"
   ]
  },
  {
   "cell_type": "code",
   "execution_count": 59,
   "id": "fb0e5a74",
   "metadata": {},
   "outputs": [
    {
     "data": {
      "image/png": "[encoded data removed]",
      "text/plain": [
       "<Figure size 720x216 with 4 Axes>"
      ]
     },
     "metadata": {
      "needs_background": "light"
     },
     "output_type": "display_data"
    }
   ],
   "source": [
    "_, axes = plt.subplots(nrows=1, ncols=4, figsize=(10, 3))\n",
    "for ax, image, label in zip(axes, R1, digits.target):\n",
    "    ax.set_axis_off()\n",
    "    ax.imshow(image, cmap=plt.cm.gray_r, interpolation=\"nearest\")\n",
    "    ax.set_title(\"Training: %i\" % label)"
   ]
  },
  {
   "cell_type": "code",
   "execution_count": 60,
   "id": "db7c85be",
   "metadata": {},
   "outputs": [
    {
     "data": {
      "image/png": "[encoded data removed]",
      "text/plain": [
       "<Figure size 720x216 with 4 Axes>"
      ]
     },
     "metadata": {
      "needs_background": "light"
     },
     "output_type": "display_data"
    }
   ],
   "source": [
    "_, axes = plt.subplots(nrows=1, ncols=4, figsize=(10, 3))\n",
    "for ax, image, label in zip(axes, R2, digits.target):\n",
    "    ax.set_axis_off()\n",
    "    ax.imshow(image, cmap=plt.cm.gray_r, interpolation=\"nearest\")\n",
    "    ax.set_title(\"Training: %i\" % label)"
   ]
  },
  {
   "cell_type": "code",
   "execution_count": 61,
   "id": "348fc055",
   "metadata": {},
   "outputs": [
    {
     "data": {
      "image/png": "[encoded data removed]",
      "text/plain": [
       "<Figure size 720x216 with 4 Axes>"
      ]
     },
     "metadata": {
      "needs_background": "light"
     },
     "output_type": "display_data"
    }
   ],
   "source": [
    "_, axes = plt.subplots(nrows=1, ncols=4, figsize=(10, 3))\n",
    "for ax, image, label in zip(axes, R3, digits.target):\n",
    "    ax.set_axis_off()\n",
    "    ax.imshow(image, cmap=plt.cm.gray_r, interpolation=\"nearest\")\n",
    "    ax.set_title(\"Training: %i\" % label)"
   ]
  },
  {
   "cell_type": "markdown",
   "id": "a5a5303c",
   "metadata": {},
   "source": [
    "# R1"
   ]
  },
  {
   "cell_type": "code",
   "execution_count": 63,
   "id": "5aa1356d",
   "metadata": {},
   "outputs": [],
   "source": [
    "result, best = model(R1.reshape((n_samples, -1)))"
   ]
  },
  {
   "cell_type": "code",
   "execution_count": 64,
   "id": "ab565f01",
   "metadata": {},
   "outputs": [
    {
     "data": {
      "text/html": [
       "<div>\n",
       "<style scoped>\n",
       "    .dataframe tbody tr th:only-of-type {\n",
       "        vertical-align: middle;\n",
       "    }\n",
       "\n",
       "    .dataframe tbody tr th {\n",
       "        vertical-align: top;\n",
       "    }\n",
       "\n",
       "    .dataframe thead th {\n",
       "        text-align: right;\n",
       "    }\n",
       "</style>\n",
       "<table border=\"1\" class=\"dataframe\">\n",
       "  <thead>\n",
       "    <tr style=\"text-align: right;\">\n",
       "      <th></th>\n",
       "      <th>hyper_params</th>\n",
       "      <th>train_accuracy</th>\n",
       "      <th>dev_accuracy</th>\n",
       "      <th>test_accuracy</th>\n",
       "    </tr>\n",
       "  </thead>\n",
       "  <tbody>\n",
       "    <tr>\n",
       "      <th>0</th>\n",
       "      <td>(0.001, 4)</td>\n",
       "      <td>0.992629</td>\n",
       "      <td>0.983660</td>\n",
       "      <td>0.981481</td>\n",
       "    </tr>\n",
       "    <tr>\n",
       "      <th>1</th>\n",
       "      <td>(0.001, 12)</td>\n",
       "      <td>0.997543</td>\n",
       "      <td>0.977124</td>\n",
       "      <td>0.981481</td>\n",
       "    </tr>\n",
       "    <tr>\n",
       "      <th>2</th>\n",
       "      <td>(1e-05, 4)</td>\n",
       "      <td>0.893530</td>\n",
       "      <td>0.872549</td>\n",
       "      <td>0.844444</td>\n",
       "    </tr>\n",
       "    <tr>\n",
       "      <th>3</th>\n",
       "      <td>(1e-05, 12)</td>\n",
       "      <td>0.926290</td>\n",
       "      <td>0.921569</td>\n",
       "      <td>0.874074</td>\n",
       "    </tr>\n",
       "    <tr>\n",
       "      <th>4</th>\n",
       "      <td>(1e-06, 4)</td>\n",
       "      <td>0.287469</td>\n",
       "      <td>0.277778</td>\n",
       "      <td>0.277778</td>\n",
       "    </tr>\n",
       "    <tr>\n",
       "      <th>5</th>\n",
       "      <td>(1e-06, 12)</td>\n",
       "      <td>0.647011</td>\n",
       "      <td>0.601307</td>\n",
       "      <td>0.600000</td>\n",
       "    </tr>\n",
       "  </tbody>\n",
       "</table>\n",
       "</div>"
      ],
      "text/plain": [
       "  hyper_params  train_accuracy  dev_accuracy  test_accuracy\n",
       "0   (0.001, 4)        0.992629      0.983660       0.981481\n",
       "1  (0.001, 12)        0.997543      0.977124       0.981481\n",
       "2   (1e-05, 4)        0.893530      0.872549       0.844444\n",
       "3  (1e-05, 12)        0.926290      0.921569       0.874074\n",
       "4   (1e-06, 4)        0.287469      0.277778       0.277778\n",
       "5  (1e-06, 12)        0.647011      0.601307       0.600000"
      ]
     },
     "execution_count": 64,
     "metadata": {},
     "output_type": "execute_result"
    }
   ],
   "source": [
    "result"
   ]
  },
  {
   "cell_type": "code",
   "execution_count": 65,
   "id": "c8efea06",
   "metadata": {},
   "outputs": [
    {
     "data": {
      "text/html": [
       "<div>\n",
       "<style scoped>\n",
       "    .dataframe tbody tr th:only-of-type {\n",
       "        vertical-align: middle;\n",
       "    }\n",
       "\n",
       "    .dataframe tbody tr th {\n",
       "        vertical-align: top;\n",
       "    }\n",
       "\n",
       "    .dataframe thead th {\n",
       "        text-align: right;\n",
       "    }\n",
       "</style>\n",
       "<table border=\"1\" class=\"dataframe\">\n",
       "  <thead>\n",
       "    <tr style=\"text-align: right;\">\n",
       "      <th></th>\n",
       "      <th>hyper_params</th>\n",
       "      <th>train_accuracy</th>\n",
       "      <th>dev_accuracy</th>\n",
       "      <th>test_accuracy</th>\n",
       "    </tr>\n",
       "  </thead>\n",
       "  <tbody>\n",
       "    <tr>\n",
       "      <th>0</th>\n",
       "      <td>(0.001, 4)</td>\n",
       "      <td>0.992629</td>\n",
       "      <td>0.98366</td>\n",
       "      <td>0.981481</td>\n",
       "    </tr>\n",
       "  </tbody>\n",
       "</table>\n",
       "</div>"
      ],
      "text/plain": [
       "  hyper_params  train_accuracy  dev_accuracy  test_accuracy\n",
       "0   (0.001, 4)        0.992629       0.98366       0.981481"
      ]
     },
     "execution_count": 65,
     "metadata": {},
     "output_type": "execute_result"
    }
   ],
   "source": [
    "best"
   ]
  },
  {
   "cell_type": "markdown",
   "id": "e8d2fa60",
   "metadata": {},
   "source": [
    "# R2"
   ]
  },
  {
   "cell_type": "code",
   "execution_count": 66,
   "id": "ed614e69",
   "metadata": {},
   "outputs": [],
   "source": [
    "result, best = model(R2.reshape((n_samples, -1)))"
   ]
  },
  {
   "cell_type": "code",
   "execution_count": 67,
   "id": "04d9743b",
   "metadata": {},
   "outputs": [
    {
     "data": {
      "text/html": [
       "<div>\n",
       "<style scoped>\n",
       "    .dataframe tbody tr th:only-of-type {\n",
       "        vertical-align: middle;\n",
       "    }\n",
       "\n",
       "    .dataframe tbody tr th {\n",
       "        vertical-align: top;\n",
       "    }\n",
       "\n",
       "    .dataframe thead th {\n",
       "        text-align: right;\n",
       "    }\n",
       "</style>\n",
       "<table border=\"1\" class=\"dataframe\">\n",
       "  <thead>\n",
       "    <tr style=\"text-align: right;\">\n",
       "      <th></th>\n",
       "      <th>hyper_params</th>\n",
       "      <th>train_accuracy</th>\n",
       "      <th>dev_accuracy</th>\n",
       "      <th>test_accuracy</th>\n",
       "    </tr>\n",
       "  </thead>\n",
       "  <tbody>\n",
       "    <tr>\n",
       "      <th>0</th>\n",
       "      <td>(0.001, 4)</td>\n",
       "      <td>1.000000</td>\n",
       "      <td>0.986928</td>\n",
       "      <td>0.974074</td>\n",
       "    </tr>\n",
       "    <tr>\n",
       "      <th>1</th>\n",
       "      <td>(0.001, 12)</td>\n",
       "      <td>1.000000</td>\n",
       "      <td>0.986928</td>\n",
       "      <td>0.974074</td>\n",
       "    </tr>\n",
       "    <tr>\n",
       "      <th>2</th>\n",
       "      <td>(1e-05, 4)</td>\n",
       "      <td>0.980344</td>\n",
       "      <td>0.970588</td>\n",
       "      <td>0.977778</td>\n",
       "    </tr>\n",
       "    <tr>\n",
       "      <th>3</th>\n",
       "      <td>(1e-05, 12)</td>\n",
       "      <td>0.989353</td>\n",
       "      <td>0.980392</td>\n",
       "      <td>0.977778</td>\n",
       "    </tr>\n",
       "    <tr>\n",
       "      <th>4</th>\n",
       "      <td>(1e-06, 4)</td>\n",
       "      <td>0.927109</td>\n",
       "      <td>0.905229</td>\n",
       "      <td>0.922222</td>\n",
       "    </tr>\n",
       "    <tr>\n",
       "      <th>5</th>\n",
       "      <td>(1e-06, 12)</td>\n",
       "      <td>0.954955</td>\n",
       "      <td>0.950980</td>\n",
       "      <td>0.944444</td>\n",
       "    </tr>\n",
       "  </tbody>\n",
       "</table>\n",
       "</div>"
      ],
      "text/plain": [
       "  hyper_params  train_accuracy  dev_accuracy  test_accuracy\n",
       "0   (0.001, 4)        1.000000      0.986928       0.974074\n",
       "1  (0.001, 12)        1.000000      0.986928       0.974074\n",
       "2   (1e-05, 4)        0.980344      0.970588       0.977778\n",
       "3  (1e-05, 12)        0.989353      0.980392       0.977778\n",
       "4   (1e-06, 4)        0.927109      0.905229       0.922222\n",
       "5  (1e-06, 12)        0.954955      0.950980       0.944444"
      ]
     },
     "execution_count": 67,
     "metadata": {},
     "output_type": "execute_result"
    }
   ],
   "source": [
    "result"
   ]
  },
  {
   "cell_type": "code",
   "execution_count": 68,
   "id": "a5089423",
   "metadata": {},
   "outputs": [
    {
     "data": {
      "text/html": [
       "<div>\n",
       "<style scoped>\n",
       "    .dataframe tbody tr th:only-of-type {\n",
       "        vertical-align: middle;\n",
       "    }\n",
       "\n",
       "    .dataframe tbody tr th {\n",
       "        vertical-align: top;\n",
       "    }\n",
       "\n",
       "    .dataframe thead th {\n",
       "        text-align: right;\n",
       "    }\n",
       "</style>\n",
       "<table border=\"1\" class=\"dataframe\">\n",
       "  <thead>\n",
       "    <tr style=\"text-align: right;\">\n",
       "      <th></th>\n",
       "      <th>hyper_params</th>\n",
       "      <th>train_accuracy</th>\n",
       "      <th>dev_accuracy</th>\n",
       "      <th>test_accuracy</th>\n",
       "    </tr>\n",
       "  </thead>\n",
       "  <tbody>\n",
       "    <tr>\n",
       "      <th>0</th>\n",
       "      <td>(0.001, 4)</td>\n",
       "      <td>1.0</td>\n",
       "      <td>0.986928</td>\n",
       "      <td>0.974074</td>\n",
       "    </tr>\n",
       "    <tr>\n",
       "      <th>1</th>\n",
       "      <td>(0.001, 12)</td>\n",
       "      <td>1.0</td>\n",
       "      <td>0.986928</td>\n",
       "      <td>0.974074</td>\n",
       "    </tr>\n",
       "  </tbody>\n",
       "</table>\n",
       "</div>"
      ],
      "text/plain": [
       "  hyper_params  train_accuracy  dev_accuracy  test_accuracy\n",
       "0   (0.001, 4)             1.0      0.986928       0.974074\n",
       "1  (0.001, 12)             1.0      0.986928       0.974074"
      ]
     },
     "execution_count": 68,
     "metadata": {},
     "output_type": "execute_result"
    }
   ],
   "source": [
    "best"
   ]
  },
  {
   "cell_type": "markdown",
   "id": "7ef4d924",
   "metadata": {},
   "source": [
    "# R3"
   ]
  },
  {
   "cell_type": "code",
   "execution_count": 70,
   "id": "d79d0bbf",
   "metadata": {},
   "outputs": [],
   "source": [
    "result, best = model(R3.reshape((n_samples, -1)))"
   ]
  },
  {
   "cell_type": "code",
   "execution_count": 71,
   "id": "bc1b8cd0",
   "metadata": {},
   "outputs": [
    {
     "data": {
      "text/html": [
       "<div>\n",
       "<style scoped>\n",
       "    .dataframe tbody tr th:only-of-type {\n",
       "        vertical-align: middle;\n",
       "    }\n",
       "\n",
       "    .dataframe tbody tr th {\n",
       "        vertical-align: top;\n",
       "    }\n",
       "\n",
       "    .dataframe thead th {\n",
       "        text-align: right;\n",
       "    }\n",
       "</style>\n",
       "<table border=\"1\" class=\"dataframe\">\n",
       "  <thead>\n",
       "    <tr style=\"text-align: right;\">\n",
       "      <th></th>\n",
       "      <th>hyper_params</th>\n",
       "      <th>train_accuracy</th>\n",
       "      <th>dev_accuracy</th>\n",
       "      <th>test_accuracy</th>\n",
       "    </tr>\n",
       "  </thead>\n",
       "  <tbody>\n",
       "    <tr>\n",
       "      <th>0</th>\n",
       "      <td>(0.001, 4)</td>\n",
       "      <td>1.000000</td>\n",
       "      <td>0.892157</td>\n",
       "      <td>0.896296</td>\n",
       "    </tr>\n",
       "    <tr>\n",
       "      <th>1</th>\n",
       "      <td>(0.001, 12)</td>\n",
       "      <td>1.000000</td>\n",
       "      <td>0.892157</td>\n",
       "      <td>0.896296</td>\n",
       "    </tr>\n",
       "    <tr>\n",
       "      <th>2</th>\n",
       "      <td>(1e-05, 4)</td>\n",
       "      <td>0.995086</td>\n",
       "      <td>0.990196</td>\n",
       "      <td>0.970370</td>\n",
       "    </tr>\n",
       "    <tr>\n",
       "      <th>3</th>\n",
       "      <td>(1e-05, 12)</td>\n",
       "      <td>0.996724</td>\n",
       "      <td>0.990196</td>\n",
       "      <td>0.981481</td>\n",
       "    </tr>\n",
       "    <tr>\n",
       "      <th>4</th>\n",
       "      <td>(1e-06, 4)</td>\n",
       "      <td>0.951679</td>\n",
       "      <td>0.957516</td>\n",
       "      <td>0.937037</td>\n",
       "    </tr>\n",
       "    <tr>\n",
       "      <th>5</th>\n",
       "      <td>(1e-06, 12)</td>\n",
       "      <td>0.974611</td>\n",
       "      <td>0.977124</td>\n",
       "      <td>0.959259</td>\n",
       "    </tr>\n",
       "  </tbody>\n",
       "</table>\n",
       "</div>"
      ],
      "text/plain": [
       "  hyper_params  train_accuracy  dev_accuracy  test_accuracy\n",
       "0   (0.001, 4)        1.000000      0.892157       0.896296\n",
       "1  (0.001, 12)        1.000000      0.892157       0.896296\n",
       "2   (1e-05, 4)        0.995086      0.990196       0.970370\n",
       "3  (1e-05, 12)        0.996724      0.990196       0.981481\n",
       "4   (1e-06, 4)        0.951679      0.957516       0.937037\n",
       "5  (1e-06, 12)        0.974611      0.977124       0.959259"
      ]
     },
     "execution_count": 71,
     "metadata": {},
     "output_type": "execute_result"
    }
   ],
   "source": [
    "result"
   ]
  },
  {
   "cell_type": "code",
   "execution_count": 72,
   "id": "57f3454c",
   "metadata": {},
   "outputs": [
    {
     "data": {
      "text/html": [
       "<div>\n",
       "<style scoped>\n",
       "    .dataframe tbody tr th:only-of-type {\n",
       "        vertical-align: middle;\n",
       "    }\n",
       "\n",
       "    .dataframe tbody tr th {\n",
       "        vertical-align: top;\n",
       "    }\n",
       "\n",
       "    .dataframe thead th {\n",
       "        text-align: right;\n",
       "    }\n",
       "</style>\n",
       "<table border=\"1\" class=\"dataframe\">\n",
       "  <thead>\n",
       "    <tr style=\"text-align: right;\">\n",
       "      <th></th>\n",
       "      <th>hyper_params</th>\n",
       "      <th>train_accuracy</th>\n",
       "      <th>dev_accuracy</th>\n",
       "      <th>test_accuracy</th>\n",
       "    </tr>\n",
       "  </thead>\n",
       "  <tbody>\n",
       "    <tr>\n",
       "      <th>2</th>\n",
       "      <td>(1e-05, 4)</td>\n",
       "      <td>0.995086</td>\n",
       "      <td>0.990196</td>\n",
       "      <td>0.970370</td>\n",
       "    </tr>\n",
       "    <tr>\n",
       "      <th>3</th>\n",
       "      <td>(1e-05, 12)</td>\n",
       "      <td>0.996724</td>\n",
       "      <td>0.990196</td>\n",
       "      <td>0.981481</td>\n",
       "    </tr>\n",
       "  </tbody>\n",
       "</table>\n",
       "</div>"
      ],
      "text/plain": [
       "  hyper_params  train_accuracy  dev_accuracy  test_accuracy\n",
       "2   (1e-05, 4)        0.995086      0.990196       0.970370\n",
       "3  (1e-05, 12)        0.996724      0.990196       0.981481"
      ]
     },
     "execution_count": 72,
     "metadata": {},
     "output_type": "execute_result"
    }
   ],
   "source": [
    "best"
   ]
  },
  {
   "cell_type": "code",
   "execution_count": null,
   "id": "6717944b",
   "metadata": {},
   "outputs": [],
   "source": []
  }
 ],
 "metadata": {
  "kernelspec": {
   "display_name": "Python 3 (ipykernel)",
   "language": "python",
   "name": "python3"
  },
  "language_info": {
   "codemirror_mode": {
    "name": "ipython",
    "version": 3
   },
   "file_extension": ".py",
   "mimetype": "text/x-python",
   "name": "python",
   "nbconvert_exporter": "python",
   "pygments_lexer": "ipython3",
   "version": "3.9.6"
  }
 },
 "nbformat": 4,
 "nbformat_minor": 5
}
